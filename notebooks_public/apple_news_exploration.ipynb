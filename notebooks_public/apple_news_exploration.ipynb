{
 "cells": [
  {
   "cell_type": "markdown",
   "source": [
    "# Exploration of the Apple-news-data"
   ],
   "metadata": {
    "collapsed": false
   }
  },
  {
   "cell_type": "code",
   "execution_count": 194,
   "outputs": [],
   "source": [
    "import os\n",
    "from dotenv import load_dotenv\n",
    "\n",
    "load_dotenv()\n",
    "\n",
    "my_key = os.getenv(\"alphavantage_key\")"
   ],
   "metadata": {
    "collapsed": false
   }
  },
  {
   "cell_type": "code",
   "execution_count": 195,
   "outputs": [],
   "source": [
    "import pandas as pd"
   ],
   "metadata": {
    "collapsed": false
   }
  },
  {
   "cell_type": "markdown",
   "source": [
    "All relevant parameters for the API call.\n",
    "`tickers` -> targeted company\n",
    "`time_from` -> get only data older than specified time (format: YYYYMMDDTHHMM)\n",
    "`time_to` -> get data published before specified time (format: YYYYMMDDTHHMM)\n",
    "`sort` -> how to sort the result\n",
    "`limit` -> number of entries returned, default is 50"
   ],
   "metadata": {
    "collapsed": false
   }
  },
  {
   "cell_type": "markdown",
   "source": [
    "### Important Information\n",
    "The API returns no values for the time before March and for October (2022)"
   ],
   "metadata": {
    "collapsed": false
   }
  },
  {
   "cell_type": "markdown",
   "source": [
    "## Get 200 most relevant news for every month."
   ],
   "metadata": {
    "collapsed": false
   }
  },
  {
   "cell_type": "code",
   "execution_count": null,
   "outputs": [],
   "source": [
    "days_of_month = [31, 28, 31, 30, 31, 30, 31, 31, 30, 31, 30, 31]\n",
    "time_limits = []\n",
    "for i in range(1,13):\n",
    "      month = f'{i}' if i/10>1 else f'0{i}' #two-digit month\n",
    "      time_limits.append(f'2022{month}01T0101') # add start of month\n",
    "      time_limits.append(f'2022{month}{days_of_month[i-1]}T2359')"
   ],
   "metadata": {
    "collapsed": false
   }
  },
  {
   "cell_type": "code",
   "execution_count": null,
   "outputs": [],
   "source": [
    "import requests\n",
    "\n",
    "def get_news_by_month(month: int):\n",
    "      assert month >= 1 & month <= 12\n",
    "      tickers = 'AAPL'\n",
    "      time_from = time_limits[2*(month-1)]\n",
    "      time_to = time_limits[2*(month-1) + 1]\n",
    "      sort = 'RELEVANCE'\n",
    "      limit = 200\n",
    "\n",
    "      url = 'https://www.alphavantage.co/query?' \\\n",
    "            'function=NEWS_SENTIMENT&' \\\n",
    "            f'tickers={tickers}&' \\\n",
    "            f'time_from={time_from}&' \\\n",
    "            f'time_to={time_to}&' \\\n",
    "            f'sort={sort}&' \\\n",
    "            f'limit={limit}&' \\\n",
    "            f'apikey={my_key}'\n",
    "      r = requests.get(url)\n",
    "      data = r.json()\n",
    "      return pd.DataFrame(data['feed'])"
   ],
   "metadata": {
    "collapsed": false
   }
  },
  {
   "cell_type": "code",
   "execution_count": null,
   "outputs": [],
   "source": [
    "df = pd.DataFrame()"
   ],
   "metadata": {
    "collapsed": false
   }
  },
  {
   "cell_type": "markdown",
   "source": [
    "Run the first cell with all 5 API calls available. Wait at least one minute and run the second one."
   ],
   "metadata": {
    "collapsed": false
   }
  },
  {
   "cell_type": "code",
   "execution_count": null,
   "outputs": [],
   "source": [
    "for i in range(3, 8):\n",
    "      df_month = get_news_by_month(i)\n",
    "      df = df.concat(df_month ,ignore_index=True)"
   ],
   "metadata": {
    "collapsed": false
   }
  },
  {
   "cell_type": "code",
   "execution_count": null,
   "outputs": [],
   "source": [
    "for i in range(8, 13):\n",
    "      if i == 10:\n",
    "            # there is no data for this month\n",
    "            continue\n",
    "      df_month = get_news_by_month(i)\n",
    "      df = df.concat(df_month ,ignore_index=True)"
   ],
   "metadata": {
    "collapsed": false
   }
  },
  {
   "cell_type": "markdown",
   "source": [
    "Safe json to file for easier access"
   ],
   "metadata": {
    "collapsed": false
   }
  },
  {
   "cell_type": "code",
   "execution_count": 312,
   "outputs": [],
   "source": [
    "from dasai.helpers import get_raw_data_path\n",
    "\n",
    "raw_data_path = get_raw_data_path()\n",
    "raw_data_path.mkdir(parents=True, exist_ok=True)\n",
    "\n",
    "df.to_json(raw_data_path / 'aapl_news.json')"
   ],
   "metadata": {
    "collapsed": false
   }
  },
  {
   "cell_type": "markdown",
   "source": [
    "Load data from file"
   ],
   "metadata": {
    "collapsed": false
   }
  },
  {
   "cell_type": "code",
   "execution_count": 313,
   "outputs": [],
   "source": [
    "df = pd.read_json(raw_data_path / 'aapl_news.json')"
   ],
   "metadata": {
    "collapsed": false
   }
  },
  {
   "cell_type": "markdown",
   "source": [
    "## Clean the data\n",
    "### I. Transform the custom date-format-string to a real date"
   ],
   "metadata": {
    "collapsed": false
   }
  },
  {
   "cell_type": "code",
   "execution_count": 299,
   "outputs": [],
   "source": [
    "def clean_date(df):\n",
    "      df['time_published'] = pd.to_datetime(df['time_published'], format='%Y%m%dT%H%M%S')\n",
    "      return df"
   ],
   "metadata": {
    "collapsed": false
   }
  },
  {
   "cell_type": "code",
   "execution_count": 300,
   "outputs": [],
   "source": [
    "df = clean_date(df)"
   ],
   "metadata": {
    "collapsed": false
   }
  },
  {
   "cell_type": "markdown",
   "source": [
    "### II. Keep only interesting columns"
   ],
   "metadata": {
    "collapsed": false
   }
  },
  {
   "cell_type": "code",
   "execution_count": 301,
   "outputs": [],
   "source": [
    "df = df[['time_published', 'source', 'category_within_source', 'overall_sentiment_score', 'ticker_sentiment']]"
   ],
   "metadata": {
    "collapsed": false
   }
  },
  {
   "cell_type": "markdown",
   "source": [
    "### III. Remove all ticker details despite the relevant AAPL one\n",
    "(within the column named ticker_sentiment)"
   ],
   "metadata": {
    "collapsed": false
   }
  },
  {
   "cell_type": "markdown",
   "source": [
    "first flatten"
   ],
   "metadata": {
    "collapsed": false
   }
  },
  {
   "cell_type": "code",
   "execution_count": 302,
   "outputs": [],
   "source": [
    "def flatten_nested_json_df(df):\n",
    "    df = df.reset_index()\n",
    "\n",
    "    print(f\"original shape: {df.shape}\")\n",
    "    print(f\"original columns: {df.columns}\")\n",
    "\n",
    "\n",
    "    # search for columns to explode/flatten\n",
    "    s = (df.applymap(type) == list).all()\n",
    "    list_columns = s[s].index.tolist()\n",
    "\n",
    "    s = (df.applymap(type) == dict).all()\n",
    "    dict_columns = s[s].index.tolist()\n",
    "\n",
    "    print(f\"lists: {list_columns}, dicts: {dict_columns}\")\n",
    "    while len(list_columns) > 0 or len(dict_columns) > 0:\n",
    "        new_columns = []\n",
    "\n",
    "        for col in dict_columns:\n",
    "            print(f\"flattening: {col}\")\n",
    "            # explode dictionaries horizontally, adding new columns\n",
    "            horiz_exploded = pd.json_normalize(df[col]).add_prefix(f'{col}.')\n",
    "            horiz_exploded.index = df.index\n",
    "            df = pd.concat([df, horiz_exploded], axis=1).drop(columns=[col])\n",
    "            new_columns.extend(horiz_exploded.columns) # inplace\n",
    "\n",
    "        for col in list_columns:\n",
    "            print(f\"exploding: {col}\")\n",
    "            # explode lists vertically, adding new columns\n",
    "            df = df.drop(columns=[col]).join(df[col].explode().to_frame())\n",
    "            new_columns.append(col)\n",
    "\n",
    "        # check if there are still dict o list fields to flatten\n",
    "        s = (df[new_columns].applymap(type) == list).all()\n",
    "        list_columns = s[s].index.tolist()\n",
    "\n",
    "        s = (df[new_columns].applymap(type) == dict).all()\n",
    "        dict_columns = s[s].index.tolist()\n",
    "\n",
    "        print(f\"lists: {list_columns}, dicts: {dict_columns}\")\n",
    "\n",
    "    print(f\"final shape: {df.shape}\")\n",
    "    print(f\"final columns: {df.columns}\")\n",
    "    return df"
   ],
   "metadata": {
    "collapsed": false
   }
  },
  {
   "cell_type": "code",
   "execution_count": 303,
   "outputs": [
    {
     "name": "stdout",
     "output_type": "stream",
     "text": [
      "original shape: (1800, 6)\n",
      "original columns: Index(['index', 'time_published', 'source', 'category_within_source',\n",
      "       'overall_sentiment_score', 'ticker_sentiment'],\n",
      "      dtype='object')\n",
      "lists: ['ticker_sentiment'], dicts: []\n",
      "exploding: ticker_sentiment\n",
      "lists: [], dicts: ['ticker_sentiment']\n",
      "flattening: ticker_sentiment\n",
      "lists: [], dicts: []\n",
      "final shape: (10774, 9)\n",
      "final columns: Index(['index', 'time_published', 'source', 'category_within_source',\n",
      "       'overall_sentiment_score', 'ticker_sentiment.ticker',\n",
      "       'ticker_sentiment.relevance_score',\n",
      "       'ticker_sentiment.ticker_sentiment_score',\n",
      "       'ticker_sentiment.ticker_sentiment_label'],\n",
      "      dtype='object')\n"
     ]
    }
   ],
   "source": [
    "df = flatten_nested_json_df(df)\n",
    "df = df.set_index('index')"
   ],
   "metadata": {
    "collapsed": false
   }
  },
  {
   "cell_type": "markdown",
   "source": [
    "keep only the entries with the relevant ticker and remove ticker column (contains AAPL only)"
   ],
   "metadata": {
    "collapsed": false
   }
  },
  {
   "cell_type": "code",
   "execution_count": 304,
   "outputs": [],
   "source": [
    "df = df.query('`ticker_sentiment.ticker` == \"AAPL\"')"
   ],
   "metadata": {
    "collapsed": false
   }
  },
  {
   "cell_type": "code",
   "execution_count": 305,
   "outputs": [],
   "source": [
    "df = df.drop(['ticker_sentiment.ticker', 'ticker_sentiment.ticker_sentiment_label'], axis=1)"
   ],
   "metadata": {
    "collapsed": false
   }
  },
  {
   "cell_type": "markdown",
   "source": [
    "### Rename columns"
   ],
   "metadata": {
    "collapsed": false
   }
  },
  {
   "cell_type": "code",
   "execution_count": 306,
   "outputs": [],
   "source": [
    "df = df.rename(columns= {\n",
    "    'category_within_source':'category',\n",
    "    'ticker_sentiment.relevance_score':'relevance_score_aapl',\n",
    "    'ticker_sentiment.ticker_sentiment_score':'sentiment_score_aapl',\n",
    "})"
   ],
   "metadata": {
    "collapsed": false
   }
  },
  {
   "cell_type": "code",
   "execution_count": 319,
   "outputs": [
    {
     "data": {
      "text/plain": "Index(['time_published', 'source', 'category', 'overall_sentiment_score',\n       'relevance_score_aapl', 'sentiment_score_aapl'],\n      dtype='object')"
     },
     "execution_count": 319,
     "metadata": {},
     "output_type": "execute_result"
    }
   ],
   "source": [
    "df.columns"
   ],
   "metadata": {
    "collapsed": false
   }
  },
  {
   "cell_type": "markdown",
   "source": [
    "### Set correct dtypes"
   ],
   "metadata": {
    "collapsed": false
   }
  },
  {
   "cell_type": "code",
   "execution_count": 327,
   "outputs": [],
   "source": [
    "df['category'] = df['category'].astype('category')\n",
    "df['relevance_score_aapl'] = df['relevance_score_aapl'].astype('float64')\n",
    "df['sentiment_score_aapl'] = df['sentiment_score_aapl'].astype('float64')"
   ],
   "metadata": {
    "collapsed": false
   }
  },
  {
   "cell_type": "code",
   "execution_count": 328,
   "outputs": [
    {
     "name": "stdout",
     "output_type": "stream",
     "text": [
      "<class 'pandas.core.frame.DataFrame'>\n",
      "Int64Index: 1800 entries, 0 to 1799\n",
      "Data columns (total 6 columns):\n",
      " #   Column                   Non-Null Count  Dtype         \n",
      "---  ------                   --------------  -----         \n",
      " 0   time_published           1800 non-null   datetime64[ns]\n",
      " 1   source                   1800 non-null   object        \n",
      " 2   category                 1800 non-null   category      \n",
      " 3   overall_sentiment_score  1800 non-null   float64       \n",
      " 4   relevance_score_aapl     1800 non-null   float64       \n",
      " 5   sentiment_score_aapl     1800 non-null   float64       \n",
      "dtypes: category(1), datetime64[ns](1), float64(3), object(1)\n",
      "memory usage: 86.8+ KB\n"
     ]
    }
   ],
   "source": [
    "df.info()"
   ],
   "metadata": {
    "collapsed": false
   }
  },
  {
   "cell_type": "code",
   "execution_count": 329,
   "outputs": [],
   "source": [
    "from dasai.helpers import get_tidy_data_path\n",
    "\n",
    "tidy_data_path = get_tidy_data_path()\n",
    "tidy_data_path.mkdir(parents=True, exist_ok=True)\n",
    "\n",
    "df.to_parquet(tidy_data_path / 'aapl_news.parquet')"
   ],
   "metadata": {
    "collapsed": false
   }
  },
  {
   "cell_type": "code",
   "execution_count": 330,
   "outputs": [],
   "source": [
    "df = pd.read_parquet(tidy_data_path / 'aapl_news.parquet')"
   ],
   "metadata": {
    "collapsed": false
   }
  },
  {
   "cell_type": "code",
   "execution_count": 339,
   "outputs": [
    {
     "data": {
      "text/plain": "array([[<AxesSubplot: title={'center': 'overall_sentiment_score'}>,\n        <AxesSubplot: title={'center': 'sentiment_score_aapl'}>],\n       [<AxesSubplot: title={'center': 'relevance_score_aapl'}>,\n        <AxesSubplot: >]], dtype=object)"
     },
     "execution_count": 339,
     "metadata": {},
     "output_type": "execute_result"
    },
    {
     "data": {
      "text/plain": "<Figure size 640x480 with 4 Axes>",
      "image/png": "[encoded data removed]"
     },
     "metadata": {},
     "output_type": "display_data"
    }
   ],
   "source": [
    "df.hist(column=['overall_sentiment_score', 'sentiment_score_aapl', 'relevance_score_aapl'], bins=50)"
   ],
   "metadata": {
    "collapsed": false
   }
  },
  {
   "cell_type": "code",
   "execution_count": 341,
   "outputs": [
    {
     "data": {
      "text/plain": "<Figure size 200x200 with 1 Axes>",
      "image/png": "[encoded data removed]"
     },
     "metadata": {},
     "output_type": "display_data"
    }
   ],
   "source": [
    "import matplotlib.pyplot as plt\n",
    "\n",
    "plt.style.use('_mpl-gallery')\n",
    "\n",
    "# make data\n",
    "x = df[['time_published']]\n",
    "y = df[['sentiment_score_aapl'].]\n",
    "\n",
    "# plot\n",
    "fig, ax = plt.subplots()\n",
    "\n",
    "ax.plot(x, y, linewidth=2.0)\n",
    "\n",
    "plt.show()"
   ],
   "metadata": {
    "collapsed": false
   }
  },
  {
   "cell_type": "code",
   "execution_count": null,
   "outputs": [],
   "source": [],
   "metadata": {
    "collapsed": false
   }
  },
  {
   "cell_type": "code",
   "execution_count": 340,
   "outputs": [
    {
     "data": {
      "text/plain": "           time_published             source category  \\\nindex                                                   \n0     2022-03-30 14:51:45           Benzinga  Trading   \n1     2022-03-29 13:21:00            Barrons      n/a   \n2     2022-03-28 14:42:12           Benzinga     News   \n3     2022-03-30 15:38:00            Barrons      n/a   \n4     2022-03-29 13:19:27           Benzinga     News   \n...                   ...                ...      ...   \n1795  2022-12-23 15:52:33           Benzinga  Markets   \n1796  2022-12-28 16:09:53  Fox Business News      n/a   \n1797  2022-12-23 22:55:31  Fox Business News      n/a   \n1798  2022-12-24 14:00:00        Motley Fool      n/a   \n1799  2022-12-24 14:01:00        Motley Fool      n/a   \n\n       overall_sentiment_score  relevance_score_aapl  sentiment_score_aapl  \nindex                                                                       \n0                     0.072708              0.993674              0.113538  \n1                    -0.018178              0.990296             -0.018178  \n2                     0.011655              0.983026              0.087958  \n3                    -0.209747              0.973732             -0.209747  \n4                    -0.027590              0.969214             -0.002274  \n...                        ...                   ...                   ...  \n1795                  0.002409              0.034630             -0.014457  \n1796                  0.096829              0.031780             -0.034325  \n1797                  0.012035              0.030878             -0.043919  \n1798                  0.168100              0.012917              0.034022  \n1799                  0.121882              0.009398              0.046193  \n\n[1800 rows x 6 columns]",
      "text/html": "<div>\n<style scoped>\n    .dataframe tbody tr th:only-of-type {\n        vertical-align: middle;\n    }\n\n    .dataframe tbody tr th {\n        vertical-align: top;\n    }\n\n    .dataframe thead th {\n        text-align: right;\n    }\n</style>\n<table border=\"1\" class=\"dataframe\">\n  <thead>\n    <tr style=\"text-align: right;\">\n      <th></th>\n      <th>time_published</th>\n      <th>source</th>\n      <th>category</th>\n      <th>overall_sentiment_score</th>\n      <th>relevance_score_aapl</th>\n      <th>sentiment_score_aapl</th>\n    </tr>\n    <tr>\n      <th>index</th>\n      <th></th>\n      <th></th>\n      <th></th>\n      <th></th>\n      <th></th>\n      <th></th>\n    </tr>\n  </thead>\n  <tbody>\n    <tr>\n      <th>0</th>\n      <td>2022-03-30 14:51:45</td>\n      <td>Benzinga</td>\n      <td>Trading</td>\n      <td>0.072708</td>\n      <td>0.993674</td>\n      <td>0.113538</td>\n    </tr>\n    <tr>\n      <th>1</th>\n      <td>2022-03-29 13:21:00</td>\n      <td>Barrons</td>\n      <td>n/a</td>\n      <td>-0.018178</td>\n      <td>0.990296</td>\n      <td>-0.018178</td>\n    </tr>\n    <tr>\n      <th>2</th>\n      <td>2022-03-28 14:42:12</td>\n      <td>Benzinga</td>\n      <td>News</td>\n      <td>0.011655</td>\n      <td>0.983026</td>\n      <td>0.087958</td>\n    </tr>\n    <tr>\n      <th>3</th>\n      <td>2022-03-30 15:38:00</td>\n      <td>Barrons</td>\n      <td>n/a</td>\n      <td>-0.209747</td>\n      <td>0.973732</td>\n      <td>-0.209747</td>\n    </tr>\n    <tr>\n      <th>4</th>\n      <td>2022-03-29 13:19:27</td>\n      <td>Benzinga</td>\n      <td>News</td>\n      <td>-0.027590</td>\n      <td>0.969214</td>\n      <td>-0.002274</td>\n    </tr>\n    <tr>\n      <th>...</th>\n      <td>...</td>\n      <td>...</td>\n      <td>...</td>\n      <td>...</td>\n      <td>...</td>\n      <td>...</td>\n    </tr>\n    <tr>\n      <th>1795</th>\n      <td>2022-12-23 15:52:33</td>\n      <td>Benzinga</td>\n      <td>Markets</td>\n      <td>0.002409</td>\n      <td>0.034630</td>\n      <td>-0.014457</td>\n    </tr>\n    <tr>\n      <th>1796</th>\n      <td>2022-12-28 16:09:53</td>\n      <td>Fox Business News</td>\n      <td>n/a</td>\n      <td>0.096829</td>\n      <td>0.031780</td>\n      <td>-0.034325</td>\n    </tr>\n    <tr>\n      <th>1797</th>\n      <td>2022-12-23 22:55:31</td>\n      <td>Fox Business News</td>\n      <td>n/a</td>\n      <td>0.012035</td>\n      <td>0.030878</td>\n      <td>-0.043919</td>\n    </tr>\n    <tr>\n      <th>1798</th>\n      <td>2022-12-24 14:00:00</td>\n      <td>Motley Fool</td>\n      <td>n/a</td>\n      <td>0.168100</td>\n      <td>0.012917</td>\n      <td>0.034022</td>\n    </tr>\n    <tr>\n      <th>1799</th>\n      <td>2022-12-24 14:01:00</td>\n      <td>Motley Fool</td>\n      <td>n/a</td>\n      <td>0.121882</td>\n      <td>0.009398</td>\n      <td>0.046193</td>\n    </tr>\n  </tbody>\n</table>\n<p>1800 rows × 6 columns</p>\n</div>"
     },
     "execution_count": 340,
     "metadata": {},
     "output_type": "execute_result"
    }
   ],
   "source": [
    "df"
   ],
   "metadata": {
    "collapsed": false
   }
  },
  {
   "cell_type": "code",
   "execution_count": null,
   "outputs": [],
   "source": [],
   "metadata": {
    "collapsed": false
   }
  }
 ],
 "metadata": {
  "kernelspec": {
   "display_name": "Python 3",
   "language": "python",
   "name": "python3"
  },
  "language_info": {
   "codemirror_mode": {
    "name": "ipython",
    "version": 2
   },
   "file_extension": ".py",
   "mimetype": "text/x-python",
   "name": "python",
   "nbconvert_exporter": "python",
   "pygments_lexer": "ipython2",
   "version": "2.7.6"
  }
 },
 "nbformat": 4,
 "nbformat_minor": 0
}

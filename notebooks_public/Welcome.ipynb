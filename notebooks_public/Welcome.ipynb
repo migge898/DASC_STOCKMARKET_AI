{
 "cells": [
  {
   "cell_type": "markdown",
   "source": [
    "# Welcome\n",
    "Use this folder to populate notebooks for the whole team. All private notebooks/testing-stuff notebooks should be placed inside `/notebooks_private` (gitignored)"
   ],
   "metadata": {
    "collapsed": false
   }
  },
  {
   "cell_type": "markdown",
   "source": [
    "## How to work efficient with notebooks and shortcuts\n",
    "A notebook consists of cells, that can be either of type *markdown* or *code*.\n",
    "It also has an *edit* and *command* mode.\n",
    "\n",
    "### Command Mode\n",
    "To enter *command* mode, press `ESC`.\n",
    "In this mode you're operating at a meta-level.\n",
    "\n",
    "Here you can add or remove cells or change cell types for example. But not write text.\n",
    "To move to a specific cell, use the `arrow` keys\n",
    "\n",
    "### Edit mode\n",
    "To enter *edit* mode, press `ENTER` to edit a selected cell.\n",
    "This is the mode to write code into a specific cell.\n",
    "\n",
    "### Some Useful shortcuts\n",
    "\n",
    "| Action                                 | Shortcut        | Mode         |\n",
    "|----------------------------------------|-----------------|--------------|\n",
    "| Remove current line                    | `ctrl + D`      | edit         |\n",
    "| Change cell to markdown                | `M`             | command      |\n",
    "| Change cell to code                    | `Y`             | command      |\n",
    "| Add cell above selected                | `A`             | command      |\n",
    "| Add cell below selected                | `B`             | command      |\n",
    "| Remove current Cell                    | `D + D`         | command      |\n",
    "| Run current cell                       | `ctrl + enter`  | edit/command |\n",
    "| Run current cell and jump to next cell | `shift + enter` | edit/command |"
   ],
   "metadata": {
    "collapsed": false
   }
  },
  {
   "cell_type": "code",
   "execution_count": null,
   "outputs": [],
   "source": [],
   "metadata": {
    "collapsed": false
   }
  }
 ],
 "metadata": {
  "kernelspec": {
   "display_name": "Python 3",
   "language": "python",
   "name": "python3"
  },
  "language_info": {
   "codemirror_mode": {
    "name": "ipython",
    "version": 2
   },
   "file_extension": ".py",
   "mimetype": "text/x-python",
   "name": "python",
   "nbconvert_exporter": "python",
   "pygments_lexer": "ipython2",
   "version": "2.7.6"
  }
 },
 "nbformat": 4,
 "nbformat_minor": 0
}
